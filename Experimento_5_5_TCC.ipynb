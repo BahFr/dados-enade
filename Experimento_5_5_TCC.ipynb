{
  "cells": [
    {
      "cell_type": "markdown",
      "metadata": {
        "id": "view-in-github",
        "colab_type": "text"
      },
      "source": [
        "<a href=\"https://colab.research.google.com/github/BahFr/dados-enade/blob/main/Experimento_5_5_TCC.ipynb\" target=\"_parent\"><img src=\"https://colab.research.google.com/assets/colab-badge.svg\" alt=\"Open In Colab\"/></a>"
      ]
    },
    {
      "cell_type": "markdown",
      "metadata": {
        "id": "-5cCycO2s6yF"
      },
      "source": [
        "# **Recorte 2 - Perfil: Todos os cursos da área de computação, '18–23' e '24-28' anos, Federais, pais com ensino superior e ensino médio, motivação por vocação\"**"
      ]
    },
    {
      "cell_type": "markdown",
      "metadata": {
        "id": "BRFTz9PF1pv0"
      },
      "source": [
        "# Módulos gerais"
      ]
    },
    {
      "cell_type": "markdown",
      "metadata": {
        "id": "fzo_oYeH7tPw"
      },
      "source": [
        "## Módulos Importantes"
      ]
    },
    {
      "cell_type": "code",
      "execution_count": null,
      "metadata": {
        "id": "AshbGNBlqYMb"
      },
      "outputs": [],
      "source": [
        "#módulos importantes\n",
        "import pandas as pd\n",
        "from matplotlib import pyplot as plt\n",
        "import numpy\n",
        "from google.colab import drive\n",
        "import plotly.express as px"
      ]
    },
    {
      "cell_type": "markdown",
      "metadata": {
        "id": "_M0iCI9Z71sH"
      },
      "source": [
        "## Lendo as bases de dados do drive"
      ]
    },
    {
      "cell_type": "code",
      "execution_count": null,
      "metadata": {
        "colab": {
          "base_uri": "https://localhost:8080/"
        },
        "id": "V1qUnXxgqwxR",
        "outputId": "57cc55d5-5db7-43a0-8007-b0092cc9bc62"
      },
      "outputs": [
        {
          "name": "stdout",
          "output_type": "stream",
          "text": [
            "Drive already mounted at /content/drive/; to attempt to forcibly remount, call drive.mount(\"/content/drive/\", force_remount=True).\n"
          ]
        }
      ],
      "source": [
        "drive.mount('/content/drive/')"
      ]
    },
    {
      "cell_type": "code",
      "execution_count": null,
      "metadata": {
        "colab": {
          "base_uri": "https://localhost:8080/"
        },
        "id": "kTk8fHp0rU0D",
        "outputId": "7ef727b5-cbb3-40de-9fa4-45270403a373"
      },
      "outputs": [
        {
          "data": {
            "text/plain": [
              "(537436, 150)"
            ]
          },
          "execution_count": 51,
          "metadata": {},
          "output_type": "execute_result"
        }
      ],
      "source": [
        "enade2017=pd.read_csv(\"/content/drive/My Drive/MICRODADOS_ENADE_2017.txt\", sep=';', low_memory=False,\n",
        "                                                                          dtype={\"CO_CATEGAD\": str,\n",
        "                                                                               'CO_GRUPO':str,\n",
        "                                                                              'CO_UF_CURSO':str,\n",
        "                                                                              'CO_REGIAO_CURSO':str,\n",
        "                                                                              'NU_IDADE':str,\n",
        "                                                                              'TP_SEXO':str,\n",
        "                                                                              'ANO_IN_GRAD':str,\n",
        "\n",
        "                                                                              'NT_GER':str,\n",
        "                                                                              'NT_FG':str,\n",
        "                                                                              'NT_OBJ_FG':str,\n",
        "                                                                              'NT_DIS_FG':str,\n",
        "                                                                                 'NT_CE':str,\n",
        "                                                                              'NT_OBJ_CE':str,\n",
        "                                                                              'NT_DIS_CE':str,\n",
        "                                                                              'QE_I01': str,\n",
        "                                                                              'QE_I02': str,\n",
        "                                                                              'QE_I03': str,                                                                                'QE_I01': str,\n",
        "                                                                              'QE_I04': str,\n",
        "                                                                              'QE_I05': str,\n",
        "                                                                              'QE_I06': str,\n",
        "                                                                              'QE_I07': str,\n",
        "                                                                              'QE_I08': str,                                                                                'QE_I01': str,\n",
        "                                                                              'QE_I09': str,\n",
        "                                                                              'QE_I10': str,\n",
        "                                                                              'QE_I11': str,\n",
        "                                                                              'QE_I12': str,\n",
        "                                                                              'QE_I13': str,                                                                                'QE_I01': str,\n",
        "                                                                              'QE_I14': str,\n",
        "                                                                              'QE_I15': str,\n",
        "                                                                              'QE_I16': str,\n",
        "                                                                              'QE_I17': str,\n",
        "                                                                              'QE_I18': str,                                                                                'QE_I01': str,\n",
        "                                                                              'QE_I19': str,\n",
        "                                                                              'QE_I20': str,\n",
        "                                                                              'QE_I21': str,\n",
        "                                                                              'QE_I22': str,\n",
        "                                                                              'QE_I23': str,                                                                                'QE_I01': str,\n",
        "                                                                              'QE_I24': str,\n",
        "                                                                              'QE_I25': str,\n",
        "                                                                              'QE_I26': str})\n",
        "\n",
        "enade2017.shape"
      ]
    },
    {
      "cell_type": "code",
      "execution_count": null,
      "metadata": {
        "id": "aBUPEZG5stjf"
      },
      "outputs": [],
      "source": [
        "enade2014=pd.read_csv(\"/content/drive/My Drive/MICRODADOS_ENADE_2014.txt\", sep=';', low_memory=False,\n",
        "                                                                          dtype={\"CO_CATEGAD\": str,\n",
        "                                                                               'CO_GRUPO':str,\n",
        "                                                                              'CO_UF_CURSO':str,\n",
        "                                                                              'CO_REGIAO_CURSO':str,\n",
        "                                                                              'NU_IDADE':str,\n",
        "                                                                              'TP_SEXO':str,\n",
        "                                                                              'ANO_IN_GRAD':str,\n",
        "\n",
        "                                                                              'NT_GER':str,\n",
        "                                                                              'NT_FG':str,\n",
        "                                                                              'NT_OBJ_FG':str,\n",
        "                                                                              'NT_DIS_FG':str,\n",
        "                                                                                 'NT_CE':str,\n",
        "                                                                              'NT_OBJ_CE':str,\n",
        "                                                                              'NT_DIS_CE':str,\n",
        "                                                                              'QE_I01': str,\n",
        "                                                                              'QE_I02': str,\n",
        "                                                                              'QE_I03': str,                                                                                'QE_I01': str,\n",
        "                                                                              'QE_I04': str,\n",
        "                                                                              'QE_I05': str,\n",
        "                                                                              'QE_I06': str,\n",
        "                                                                              'QE_I07': str,\n",
        "                                                                              'QE_I08': str,                                                                                'QE_I01': str,\n",
        "                                                                              'QE_I09': str,\n",
        "                                                                              'QE_I10': str,\n",
        "                                                                              'QE_I11': str,\n",
        "                                                                              'QE_I12': str,\n",
        "                                                                              'QE_I13': str,                                                                                'QE_I01': str,\n",
        "                                                                              'QE_I14': str,\n",
        "                                                                              'QE_I15': str,\n",
        "                                                                              'QE_I16': str,\n",
        "                                                                              'QE_I17': str,\n",
        "                                                                              'QE_I18': str,                                                                                'QE_I01': str,\n",
        "                                                                              'QE_I19': str,\n",
        "                                                                              'QE_I20': str,\n",
        "                                                                              'QE_I21': str,\n",
        "                                                                              'QE_I22': str,\n",
        "                                                                              'QE_I23': str,                                                                                'QE_I01': str,\n",
        "                                                                              'QE_I24': str,\n",
        "                                                                              'QE_I25': str,\n",
        "                                                                              'QE_I26': str})\n",
        "\n",
        "enade2014.shape"
      ]
    },
    {
      "cell_type": "markdown",
      "metadata": {
        "id": "QK0nU08e78LW"
      },
      "source": [
        "## Criando os DataFrames"
      ]
    },
    {
      "cell_type": "code",
      "execution_count": null,
      "metadata": {
        "id": "PtVry7aWtc9w"
      },
      "outputs": [],
      "source": [
        "df2017 = pd.DataFrame(enade2017, columns=['CO_CATEGAD',\n",
        "'CO_GRUPO',\n",
        "'CO_UF_CURSO',\n",
        "'CO_REGIAO_CURSO',\n",
        "'NU_IDADE',\n",
        "'TP_SEXO',\n",
        "'NT_GER',\n",
        "'NT_FG',\n",
        "'QE_I01',\n",
        "'QE_I02',\n",
        "'QE_I05',\n",
        "'QE_I08',\n",
        "'QE_I11',\n",
        "'QE_I12',\n",
        "'QE_I15',\n",
        "'QE_I17',\n",
        "'QE_I18',\n",
        "'QE_I21',\n",
        "'QE_I25',])\n",
        "df2017.head(10)"
      ]
    },
    {
      "cell_type": "code",
      "execution_count": null,
      "metadata": {
        "id": "Lg-byWZYtsub"
      },
      "outputs": [],
      "source": [
        "df2014 = pd.DataFrame(enade2014, columns=['CO_CATEGAD',\n",
        "'CO_GRUPO',\n",
        "'CO_UF_CURSO',\n",
        "'CO_REGIAO_CURSO',\n",
        "'NU_IDADE',\n",
        "'TP_SEXO',\n",
        "'NT_GER',\n",
        "'NT_FG',\n",
        "'QE_I01',\n",
        "'QE_I02',\n",
        "'QE_I05',\n",
        "'QE_I08',\n",
        "'QE_I11',\n",
        "'QE_I12',\n",
        "'QE_I15',\n",
        "'QE_I17',\n",
        "'QE_I18',\n",
        "'QE_I21',\n",
        "'QE_I25'])\n",
        "df2014.head(10)"
      ]
    },
    {
      "cell_type": "markdown",
      "metadata": {
        "id": "Yowuh6C88BZO"
      },
      "source": [
        "## Tratamento dos dados"
      ]
    },
    {
      "cell_type": "code",
      "execution_count": null,
      "metadata": {
        "id": "fMOm1wQTtzab"
      },
      "outputs": [],
      "source": [
        "tabela17 = df2017.replace({',': '.'}, regex=True)\n",
        "tabela14 = df2014.replace({',': '.'}, regex=True)\n",
        "\n",
        "#substituir a vírgula por ponto"
      ]
    },
    {
      "cell_type": "code",
      "execution_count": null,
      "metadata": {
        "id": "kYfNtVNGQUZ1"
      },
      "outputs": [],
      "source": [
        "tabela17.shape"
      ]
    },
    {
      "cell_type": "code",
      "execution_count": null,
      "metadata": {
        "id": "7kuHKbTTQaHC"
      },
      "outputs": [],
      "source": [
        "tabela14.shape"
      ]
    },
    {
      "cell_type": "code",
      "execution_count": null,
      "metadata": {
        "id": "qAARcBMnPcDs"
      },
      "outputs": [],
      "source": [
        "tabela17.dropna(axis=0) ##acho que vale tirar os nulos somente das colunas que for ser usadas.  Tinha  537436 e fica  442868 (quase 100 mil de diff)"
      ]
    },
    {
      "cell_type": "code",
      "execution_count": null,
      "metadata": {
        "id": "2M7qOFOrQ1US"
      },
      "outputs": [],
      "source": [
        "tabela14.dropna(axis=0)"
      ]
    },
    {
      "cell_type": "markdown",
      "metadata": {
        "id": "_iOyD36rezOU"
      },
      "source": []
    },
    {
      "cell_type": "markdown",
      "metadata": {
        "id": "_4Ehssm68JUX"
      },
      "source": [
        "# Unindo as duas tabelas em uma só"
      ]
    },
    {
      "cell_type": "code",
      "execution_count": null,
      "metadata": {
        "id": "PWol7XGOum9S"
      },
      "outputs": [],
      "source": [
        "# Concatenando as tabelas ao longo das linhas (adicionando novas linhas)\n",
        "tabela_unida = pd.concat([tabela14, tabela17], ignore_index=True)\n",
        "\n",
        "# Exibindo as primeiras linhas da tabela unida\n",
        "tabela_unida.head()\n"
      ]
    },
    {
      "cell_type": "code",
      "execution_count": null,
      "metadata": {
        "id": "jnQBbksy6-Br"
      },
      "outputs": [],
      "source": [
        "tabela_unida.shape"
      ]
    },
    {
      "cell_type": "markdown",
      "metadata": {
        "id": "EKG44TPXDS00"
      },
      "source": [
        "# Filtrando pelos cursos de computação"
      ]
    },
    {
      "cell_type": "code",
      "execution_count": null,
      "metadata": {
        "id": "5-VcAToYDRyE"
      },
      "outputs": [],
      "source": [
        "# Lista dos códigos de curso da área de computação\n",
        "## quais são os cursos?\n",
        "codigos_computacao = ['4003', '5809', '4004', '4006']\n",
        "#2014\n",
        "#5809 = ENGENHARIA DE COMPUTAÇÃO\n",
        "#4004 = CIÊNCIA DA COMPUTAÇÃO (BACHARELADO)\n",
        "#4006 = SISTEMAS DE INFORMAÇÃO\n",
        "\n",
        "#2017\n",
        "#4003 = Engenharia Da Computação\n",
        "#4004 = Ciência Da Computação (Bacharelado)\n",
        "#4006 = Sistemas De Informação\n"
      ]
    },
    {
      "cell_type": "code",
      "execution_count": null,
      "metadata": {
        "id": "3YQq0GlNDYib"
      },
      "outputs": [],
      "source": [
        "# Filtrando a tabela unificada para incluir apenas cursos da área de computação\n",
        "tabela_computacao = tabela_unida[tabela_unida['CO_GRUPO'].isin(codigos_computacao)]"
      ]
    },
    {
      "cell_type": "code",
      "execution_count": null,
      "metadata": {
        "id": "4brtAun7DrCM"
      },
      "outputs": [],
      "source": [
        "tabela_computacao.head()"
      ]
    },
    {
      "cell_type": "code",
      "execution_count": null,
      "metadata": {
        "colab": {
          "background_save": true
        },
        "id": "Kp0X2hf-_CID"
      },
      "outputs": [],
      "source": [
        "## Remove as linhas onde 'NT_GER' é nulo na tabela_computacao\n",
        "tabela_computacao = tabela_computacao.dropna(subset=['NT_GER'])\n",
        "## só retirar aquilo que for realmente usado"
      ]
    },
    {
      "cell_type": "code",
      "execution_count": null,
      "metadata": {
        "colab": {
          "background_save": true
        },
        "id": "A30snkti_bPa",
        "outputId": "179b253c-1024-4c1d-fe1e-6cee35676529"
      },
      "outputs": [
        {
          "data": {
            "application/vnd.google.colaboratory.intrinsic+json": {
              "summary": "{\n  \"name\": \"tabela_computacao\",\n  \"rows\": 48037,\n  \"fields\": [\n    {\n      \"column\": \"CO_CATEGAD\",\n      \"properties\": {\n        \"dtype\": \"category\",\n        \"num_unique_values\": 18,\n        \"samples\": [\n          \"10002\",\n          \"10001\",\n          \"10007\"\n        ],\n        \"semantic_type\": \"\",\n        \"description\": \"\"\n      }\n    },\n    {\n      \"column\": \"CO_GRUPO\",\n      \"properties\": {\n        \"dtype\": \"category\",\n        \"num_unique_values\": 4,\n        \"samples\": [\n          \"5809\",\n          \"4003\",\n          \"4004\"\n        ],\n        \"semantic_type\": \"\",\n        \"description\": \"\"\n      }\n    },\n    {\n      \"column\": \"CO_UF_CURSO\",\n      \"properties\": {\n        \"dtype\": \"category\",\n        \"num_unique_values\": 27,\n        \"samples\": [\n          \"43\",\n          \"11\",\n          \"23\"\n        ],\n        \"semantic_type\": \"\",\n        \"description\": \"\"\n      }\n    },\n    {\n      \"column\": \"CO_REGIAO_CURSO\",\n      \"properties\": {\n        \"dtype\": \"category\",\n        \"num_unique_values\": 5,\n        \"samples\": [\n          \"2\",\n          \"1\",\n          \"3\"\n        ],\n        \"semantic_type\": \"\",\n        \"description\": \"\"\n      }\n    },\n    {\n      \"column\": \"NU_IDADE\",\n      \"properties\": {\n        \"dtype\": \"category\",\n        \"num_unique_values\": 47,\n        \"samples\": [\n          \"51\",\n          \"54\",\n          \"48\"\n        ],\n        \"semantic_type\": \"\",\n        \"description\": \"\"\n      }\n    },\n    {\n      \"column\": \"TP_SEXO\",\n      \"properties\": {\n        \"dtype\": \"category\",\n        \"num_unique_values\": 3,\n        \"samples\": [\n          \"M\",\n          \"F\",\n          \"N\"\n        ],\n        \"semantic_type\": \"\",\n        \"description\": \"\"\n      }\n    },\n    {\n      \"column\": \"NT_GER\",\n      \"properties\": {\n        \"dtype\": \"category\",\n        \"num_unique_values\": 894,\n        \"samples\": [\n          \"83.1\",\n          \"14\",\n          \"70.2\"\n        ],\n        \"semantic_type\": \"\",\n        \"description\": \"\"\n      }\n    },\n    {\n      \"column\": \"NT_FG\",\n      \"properties\": {\n        \"dtype\": \"category\",\n        \"num_unique_values\": 975,\n        \"samples\": [\n          \"63.5\",\n          \"15.4\",\n          \"58.2\"\n        ],\n        \"semantic_type\": \"\",\n        \"description\": \"\"\n      }\n    },\n    {\n      \"column\": \"QE_I01\",\n      \"properties\": {\n        \"dtype\": \"category\",\n        \"num_unique_values\": 5,\n        \"samples\": [\n          \"B\",\n          \"D\",\n          \"C\"\n        ],\n        \"semantic_type\": \"\",\n        \"description\": \"\"\n      }\n    },\n    {\n      \"column\": \"QE_I02\",\n      \"properties\": {\n        \"dtype\": \"category\",\n        \"num_unique_values\": 6,\n        \"samples\": [\n          \"C\",\n          \"A\",\n          \"F\"\n        ],\n        \"semantic_type\": \"\",\n        \"description\": \"\"\n      }\n    },\n    {\n      \"column\": \"QE_I05\",\n      \"properties\": {\n        \"dtype\": \"category\",\n        \"num_unique_values\": 6,\n        \"samples\": [\n          \"E\",\n          \"D\",\n          \"B\"\n        ],\n        \"semantic_type\": \"\",\n        \"description\": \"\"\n      }\n    },\n    {\n      \"column\": \"QE_I08\",\n      \"properties\": {\n        \"dtype\": \"category\",\n        \"num_unique_values\": 7,\n        \"samples\": [\n          \"F\",\n          \"B\",\n          \"A\"\n        ],\n        \"semantic_type\": \"\",\n        \"description\": \"\"\n      }\n    },\n    {\n      \"column\": \"QE_I11\",\n      \"properties\": {\n        \"dtype\": \"category\",\n        \"num_unique_values\": 11,\n        \"samples\": [\n          \"C\",\n          \"A\",\n          \"K\"\n        ],\n        \"semantic_type\": \"\",\n        \"description\": \"\"\n      }\n    },\n    {\n      \"column\": \"QE_I12\",\n      \"properties\": {\n        \"dtype\": \"category\",\n        \"num_unique_values\": 6,\n        \"samples\": [\n          \"A\",\n          \"E\",\n          \"B\"\n        ],\n        \"semantic_type\": \"\",\n        \"description\": \"\"\n      }\n    },\n    {\n      \"column\": \"QE_I15\",\n      \"properties\": {\n        \"dtype\": \"category\",\n        \"num_unique_values\": 6,\n        \"samples\": [\n          \"A\",\n          \"B\",\n          \"F\"\n        ],\n        \"semantic_type\": \"\",\n        \"description\": \"\"\n      }\n    },\n    {\n      \"column\": \"QE_I17\",\n      \"properties\": {\n        \"dtype\": \"category\",\n        \"num_unique_values\": 6,\n        \"samples\": [\n          \"A\",\n          \"B\",\n          \"C\"\n        ],\n        \"semantic_type\": \"\",\n        \"description\": \"\"\n      }\n    },\n    {\n      \"column\": \"QE_I18\",\n      \"properties\": {\n        \"dtype\": \"category\",\n        \"num_unique_values\": 5,\n        \"samples\": [\n          \"A\",\n          \"D\",\n          \"E\"\n        ],\n        \"semantic_type\": \"\",\n        \"description\": \"\"\n      }\n    },\n    {\n      \"column\": \"QE_I21\",\n      \"properties\": {\n        \"dtype\": \"category\",\n        \"num_unique_values\": 2,\n        \"samples\": [\n          \"B\",\n          \"A\"\n        ],\n        \"semantic_type\": \"\",\n        \"description\": \"\"\n      }\n    },\n    {\n      \"column\": \"QE_I25\",\n      \"properties\": {\n        \"dtype\": \"category\",\n        \"num_unique_values\": 8,\n        \"samples\": [\n          \"A\",\n          \"B\"\n        ],\n        \"semantic_type\": \"\",\n        \"description\": \"\"\n      }\n    }\n  ]\n}",
              "type": "dataframe",
              "variable_name": "tabela_computacao"
            },
            "text/html": [
              "\n",
              "  <div id=\"df-9915423a-6fce-4390-bc52-062a6215abd3\" class=\"colab-df-container\">\n",
              "    <div>\n",
              "<style scoped>\n",
              "    .dataframe tbody tr th:only-of-type {\n",
              "        vertical-align: middle;\n",
              "    }\n",
              "\n",
              "    .dataframe tbody tr th {\n",
              "        vertical-align: top;\n",
              "    }\n",
              "\n",
              "    .dataframe thead th {\n",
              "        text-align: right;\n",
              "    }\n",
              "</style>\n",
              "<table border=\"1\" class=\"dataframe\">\n",
              "  <thead>\n",
              "    <tr style=\"text-align: right;\">\n",
              "      <th></th>\n",
              "      <th>CO_CATEGAD</th>\n",
              "      <th>CO_GRUPO</th>\n",
              "      <th>CO_UF_CURSO</th>\n",
              "      <th>CO_REGIAO_CURSO</th>\n",
              "      <th>NU_IDADE</th>\n",
              "      <th>TP_SEXO</th>\n",
              "      <th>NT_GER</th>\n",
              "      <th>NT_FG</th>\n",
              "      <th>QE_I01</th>\n",
              "      <th>QE_I02</th>\n",
              "      <th>QE_I05</th>\n",
              "      <th>QE_I08</th>\n",
              "      <th>QE_I11</th>\n",
              "      <th>QE_I12</th>\n",
              "      <th>QE_I15</th>\n",
              "      <th>QE_I17</th>\n",
              "      <th>QE_I18</th>\n",
              "      <th>QE_I21</th>\n",
              "      <th>QE_I25</th>\n",
              "    </tr>\n",
              "  </thead>\n",
              "  <tbody>\n",
              "    <tr>\n",
              "      <th>595</th>\n",
              "      <td>10002</td>\n",
              "      <td>4004</td>\n",
              "      <td>51</td>\n",
              "      <td>5</td>\n",
              "      <td>21</td>\n",
              "      <td>M</td>\n",
              "      <td>67.5</td>\n",
              "      <td>85.5</td>\n",
              "      <td>A</td>\n",
              "      <td>C</td>\n",
              "      <td>E</td>\n",
              "      <td>F</td>\n",
              "      <td>A</td>\n",
              "      <td>A</td>\n",
              "      <td>A</td>\n",
              "      <td>A</td>\n",
              "      <td>B</td>\n",
              "      <td>A</td>\n",
              "      <td>E</td>\n",
              "    </tr>\n",
              "    <tr>\n",
              "      <th>597</th>\n",
              "      <td>10002</td>\n",
              "      <td>4004</td>\n",
              "      <td>51</td>\n",
              "      <td>5</td>\n",
              "      <td>20</td>\n",
              "      <td>M</td>\n",
              "      <td>40.1</td>\n",
              "      <td>45</td>\n",
              "      <td>A</td>\n",
              "      <td>C</td>\n",
              "      <td>D</td>\n",
              "      <td>B</td>\n",
              "      <td>A</td>\n",
              "      <td>A</td>\n",
              "      <td>A</td>\n",
              "      <td>A</td>\n",
              "      <td>A</td>\n",
              "      <td>B</td>\n",
              "      <td>E</td>\n",
              "    </tr>\n",
              "    <tr>\n",
              "      <th>600</th>\n",
              "      <td>10002</td>\n",
              "      <td>4004</td>\n",
              "      <td>51</td>\n",
              "      <td>5</td>\n",
              "      <td>21</td>\n",
              "      <td>M</td>\n",
              "      <td>59.7</td>\n",
              "      <td>85.7</td>\n",
              "      <td>A</td>\n",
              "      <td>A</td>\n",
              "      <td>D</td>\n",
              "      <td>E</td>\n",
              "      <td>A</td>\n",
              "      <td>A</td>\n",
              "      <td>A</td>\n",
              "      <td>A</td>\n",
              "      <td>A</td>\n",
              "      <td>A</td>\n",
              "      <td>A</td>\n",
              "    </tr>\n",
              "    <tr>\n",
              "      <th>601</th>\n",
              "      <td>10002</td>\n",
              "      <td>4004</td>\n",
              "      <td>51</td>\n",
              "      <td>5</td>\n",
              "      <td>26</td>\n",
              "      <td>F</td>\n",
              "      <td>68.7</td>\n",
              "      <td>71.8</td>\n",
              "      <td>A</td>\n",
              "      <td>A</td>\n",
              "      <td>E</td>\n",
              "      <td>D</td>\n",
              "      <td>A</td>\n",
              "      <td>A</td>\n",
              "      <td>A</td>\n",
              "      <td>A</td>\n",
              "      <td>A</td>\n",
              "      <td>A</td>\n",
              "      <td>A</td>\n",
              "    </tr>\n",
              "    <tr>\n",
              "      <th>602</th>\n",
              "      <td>10002</td>\n",
              "      <td>4004</td>\n",
              "      <td>51</td>\n",
              "      <td>5</td>\n",
              "      <td>22</td>\n",
              "      <td>M</td>\n",
              "      <td>52.3</td>\n",
              "      <td>56</td>\n",
              "      <td>A</td>\n",
              "      <td>C</td>\n",
              "      <td>D</td>\n",
              "      <td>C</td>\n",
              "      <td>A</td>\n",
              "      <td>E</td>\n",
              "      <td>A</td>\n",
              "      <td>A</td>\n",
              "      <td>A</td>\n",
              "      <td>B</td>\n",
              "      <td>C</td>\n",
              "    </tr>\n",
              "  </tbody>\n",
              "</table>\n",
              "</div>\n",
              "    <div class=\"colab-df-buttons\">\n",
              "\n",
              "  <div class=\"colab-df-container\">\n",
              "    <button class=\"colab-df-convert\" onclick=\"convertToInteractive('df-9915423a-6fce-4390-bc52-062a6215abd3')\"\n",
              "            title=\"Convert this dataframe to an interactive table.\"\n",
              "            style=\"display:none;\">\n",
              "\n",
              "  <svg xmlns=\"http://www.w3.org/2000/svg\" height=\"24px\" viewBox=\"0 -960 960 960\">\n",
              "    <path d=\"M120-120v-720h720v720H120Zm60-500h600v-160H180v160Zm220 220h160v-160H400v160Zm0 220h160v-160H400v160ZM180-400h160v-160H180v160Zm440 0h160v-160H620v160ZM180-180h160v-160H180v160Zm440 0h160v-160H620v160Z\"/>\n",
              "  </svg>\n",
              "    </button>\n",
              "\n",
              "  <style>\n",
              "    .colab-df-container {\n",
              "      display:flex;\n",
              "      gap: 12px;\n",
              "    }\n",
              "\n",
              "    .colab-df-convert {\n",
              "      background-color: #E8F0FE;\n",
              "      border: none;\n",
              "      border-radius: 50%;\n",
              "      cursor: pointer;\n",
              "      display: none;\n",
              "      fill: #1967D2;\n",
              "      height: 32px;\n",
              "      padding: 0 0 0 0;\n",
              "      width: 32px;\n",
              "    }\n",
              "\n",
              "    .colab-df-convert:hover {\n",
              "      background-color: #E2EBFA;\n",
              "      box-shadow: 0px 1px 2px rgba(60, 64, 67, 0.3), 0px 1px 3px 1px rgba(60, 64, 67, 0.15);\n",
              "      fill: #174EA6;\n",
              "    }\n",
              "\n",
              "    .colab-df-buttons div {\n",
              "      margin-bottom: 4px;\n",
              "    }\n",
              "\n",
              "    [theme=dark] .colab-df-convert {\n",
              "      background-color: #3B4455;\n",
              "      fill: #D2E3FC;\n",
              "    }\n",
              "\n",
              "    [theme=dark] .colab-df-convert:hover {\n",
              "      background-color: #434B5C;\n",
              "      box-shadow: 0px 1px 3px 1px rgba(0, 0, 0, 0.15);\n",
              "      filter: drop-shadow(0px 1px 2px rgba(0, 0, 0, 0.3));\n",
              "      fill: #FFFFFF;\n",
              "    }\n",
              "  </style>\n",
              "\n",
              "    <script>\n",
              "      const buttonEl =\n",
              "        document.querySelector('#df-9915423a-6fce-4390-bc52-062a6215abd3 button.colab-df-convert');\n",
              "      buttonEl.style.display =\n",
              "        google.colab.kernel.accessAllowed ? 'block' : 'none';\n",
              "\n",
              "      async function convertToInteractive(key) {\n",
              "        const element = document.querySelector('#df-9915423a-6fce-4390-bc52-062a6215abd3');\n",
              "        const dataTable =\n",
              "          await google.colab.kernel.invokeFunction('convertToInteractive',\n",
              "                                                    [key], {});\n",
              "        if (!dataTable) return;\n",
              "\n",
              "        const docLinkHtml = 'Like what you see? Visit the ' +\n",
              "          '<a target=\"_blank\" href=https://colab.research.google.com/notebooks/data_table.ipynb>data table notebook</a>'\n",
              "          + ' to learn more about interactive tables.';\n",
              "        element.innerHTML = '';\n",
              "        dataTable['output_type'] = 'display_data';\n",
              "        await google.colab.output.renderOutput(dataTable, element);\n",
              "        const docLink = document.createElement('div');\n",
              "        docLink.innerHTML = docLinkHtml;\n",
              "        element.appendChild(docLink);\n",
              "      }\n",
              "    </script>\n",
              "  </div>\n",
              "\n",
              "\n",
              "    <div id=\"df-2253ee0f-3891-4dee-96f5-9f7767c00fd6\">\n",
              "      <button class=\"colab-df-quickchart\" onclick=\"quickchart('df-2253ee0f-3891-4dee-96f5-9f7767c00fd6')\"\n",
              "                title=\"Suggest charts\"\n",
              "                style=\"display:none;\">\n",
              "\n",
              "<svg xmlns=\"http://www.w3.org/2000/svg\" height=\"24px\"viewBox=\"0 0 24 24\"\n",
              "     width=\"24px\">\n",
              "    <g>\n",
              "        <path d=\"M19 3H5c-1.1 0-2 .9-2 2v14c0 1.1.9 2 2 2h14c1.1 0 2-.9 2-2V5c0-1.1-.9-2-2-2zM9 17H7v-7h2v7zm4 0h-2V7h2v10zm4 0h-2v-4h2v4z\"/>\n",
              "    </g>\n",
              "</svg>\n",
              "      </button>\n",
              "\n",
              "<style>\n",
              "  .colab-df-quickchart {\n",
              "      --bg-color: #E8F0FE;\n",
              "      --fill-color: #1967D2;\n",
              "      --hover-bg-color: #E2EBFA;\n",
              "      --hover-fill-color: #174EA6;\n",
              "      --disabled-fill-color: #AAA;\n",
              "      --disabled-bg-color: #DDD;\n",
              "  }\n",
              "\n",
              "  [theme=dark] .colab-df-quickchart {\n",
              "      --bg-color: #3B4455;\n",
              "      --fill-color: #D2E3FC;\n",
              "      --hover-bg-color: #434B5C;\n",
              "      --hover-fill-color: #FFFFFF;\n",
              "      --disabled-bg-color: #3B4455;\n",
              "      --disabled-fill-color: #666;\n",
              "  }\n",
              "\n",
              "  .colab-df-quickchart {\n",
              "    background-color: var(--bg-color);\n",
              "    border: none;\n",
              "    border-radius: 50%;\n",
              "    cursor: pointer;\n",
              "    display: none;\n",
              "    fill: var(--fill-color);\n",
              "    height: 32px;\n",
              "    padding: 0;\n",
              "    width: 32px;\n",
              "  }\n",
              "\n",
              "  .colab-df-quickchart:hover {\n",
              "    background-color: var(--hover-bg-color);\n",
              "    box-shadow: 0 1px 2px rgba(60, 64, 67, 0.3), 0 1px 3px 1px rgba(60, 64, 67, 0.15);\n",
              "    fill: var(--button-hover-fill-color);\n",
              "  }\n",
              "\n",
              "  .colab-df-quickchart-complete:disabled,\n",
              "  .colab-df-quickchart-complete:disabled:hover {\n",
              "    background-color: var(--disabled-bg-color);\n",
              "    fill: var(--disabled-fill-color);\n",
              "    box-shadow: none;\n",
              "  }\n",
              "\n",
              "  .colab-df-spinner {\n",
              "    border: 2px solid var(--fill-color);\n",
              "    border-color: transparent;\n",
              "    border-bottom-color: var(--fill-color);\n",
              "    animation:\n",
              "      spin 1s steps(1) infinite;\n",
              "  }\n",
              "\n",
              "  @keyframes spin {\n",
              "    0% {\n",
              "      border-color: transparent;\n",
              "      border-bottom-color: var(--fill-color);\n",
              "      border-left-color: var(--fill-color);\n",
              "    }\n",
              "    20% {\n",
              "      border-color: transparent;\n",
              "      border-left-color: var(--fill-color);\n",
              "      border-top-color: var(--fill-color);\n",
              "    }\n",
              "    30% {\n",
              "      border-color: transparent;\n",
              "      border-left-color: var(--fill-color);\n",
              "      border-top-color: var(--fill-color);\n",
              "      border-right-color: var(--fill-color);\n",
              "    }\n",
              "    40% {\n",
              "      border-color: transparent;\n",
              "      border-right-color: var(--fill-color);\n",
              "      border-top-color: var(--fill-color);\n",
              "    }\n",
              "    60% {\n",
              "      border-color: transparent;\n",
              "      border-right-color: var(--fill-color);\n",
              "    }\n",
              "    80% {\n",
              "      border-color: transparent;\n",
              "      border-right-color: var(--fill-color);\n",
              "      border-bottom-color: var(--fill-color);\n",
              "    }\n",
              "    90% {\n",
              "      border-color: transparent;\n",
              "      border-bottom-color: var(--fill-color);\n",
              "    }\n",
              "  }\n",
              "</style>\n",
              "\n",
              "      <script>\n",
              "        async function quickchart(key) {\n",
              "          const quickchartButtonEl =\n",
              "            document.querySelector('#' + key + ' button');\n",
              "          quickchartButtonEl.disabled = true;  // To prevent multiple clicks.\n",
              "          quickchartButtonEl.classList.add('colab-df-spinner');\n",
              "          try {\n",
              "            const charts = await google.colab.kernel.invokeFunction(\n",
              "                'suggestCharts', [key], {});\n",
              "          } catch (error) {\n",
              "            console.error('Error during call to suggestCharts:', error);\n",
              "          }\n",
              "          quickchartButtonEl.classList.remove('colab-df-spinner');\n",
              "          quickchartButtonEl.classList.add('colab-df-quickchart-complete');\n",
              "        }\n",
              "        (() => {\n",
              "          let quickchartButtonEl =\n",
              "            document.querySelector('#df-2253ee0f-3891-4dee-96f5-9f7767c00fd6 button');\n",
              "          quickchartButtonEl.style.display =\n",
              "            google.colab.kernel.accessAllowed ? 'block' : 'none';\n",
              "        })();\n",
              "      </script>\n",
              "    </div>\n",
              "\n",
              "    </div>\n",
              "  </div>\n"
            ],
            "text/plain": [
              "    CO_CATEGAD CO_GRUPO CO_UF_CURSO CO_REGIAO_CURSO NU_IDADE TP_SEXO NT_GER  \\\n",
              "595      10002     4004          51               5       21       M   67.5   \n",
              "597      10002     4004          51               5       20       M   40.1   \n",
              "600      10002     4004          51               5       21       M   59.7   \n",
              "601      10002     4004          51               5       26       F   68.7   \n",
              "602      10002     4004          51               5       22       M   52.3   \n",
              "\n",
              "    NT_FG QE_I01 QE_I02 QE_I05 QE_I08 QE_I11 QE_I12 QE_I15 QE_I17 QE_I18  \\\n",
              "595  85.5      A      C      E      F      A      A      A      A      B   \n",
              "597    45      A      C      D      B      A      A      A      A      A   \n",
              "600  85.7      A      A      D      E      A      A      A      A      A   \n",
              "601  71.8      A      A      E      D      A      A      A      A      A   \n",
              "602    56      A      C      D      C      A      E      A      A      A   \n",
              "\n",
              "    QE_I21 QE_I25  \n",
              "595      A      E  \n",
              "597      B      E  \n",
              "600      A      A  \n",
              "601      A      A  \n",
              "602      B      C  "
            ]
          },
          "execution_count": 66,
          "metadata": {},
          "output_type": "execute_result"
        }
      ],
      "source": [
        "tabela_computacao.head() ##nulos de notas retirados"
      ]
    },
    {
      "cell_type": "code",
      "execution_count": null,
      "metadata": {
        "colab": {
          "background_save": true
        },
        "id": "0iiBQE1FDfYT",
        "outputId": "0daf404e-3b03-419c-f6c5-18f6c1bf495d"
      },
      "outputs": [
        {
          "name": "stdout",
          "output_type": "stream",
          "text": [
            "['4004' '5809' '4006' '4003']\n"
          ]
        }
      ],
      "source": [
        "# Obtendo os tipos únicos de códigos de curso na tabela_computacao\n",
        "tipos_codigos_curso = tabela_computacao['CO_GRUPO'].unique()\n",
        "\n",
        "# Exibindo os tipos únicos de códigos de curso\n",
        "print(tipos_codigos_curso)"
      ]
    },
    {
      "cell_type": "code",
      "execution_count": null,
      "metadata": {
        "colab": {
          "background_save": true
        },
        "id": "YvQdsZDVEyY7",
        "outputId": "b196e4f6-9566-4411-ad89-e6dec2a3f984"
      },
      "outputs": [
        {
          "data": {
            "text/html": [
              "<div>\n",
              "<style scoped>\n",
              "    .dataframe tbody tr th:only-of-type {\n",
              "        vertical-align: middle;\n",
              "    }\n",
              "\n",
              "    .dataframe tbody tr th {\n",
              "        vertical-align: top;\n",
              "    }\n",
              "\n",
              "    .dataframe thead th {\n",
              "        text-align: right;\n",
              "    }\n",
              "</style>\n",
              "<table border=\"1\" class=\"dataframe\">\n",
              "  <thead>\n",
              "    <tr style=\"text-align: right;\">\n",
              "      <th></th>\n",
              "      <th>CO_GRUPO</th>\n",
              "    </tr>\n",
              "    <tr>\n",
              "      <th>CO_GRUPO</th>\n",
              "      <th></th>\n",
              "    </tr>\n",
              "  </thead>\n",
              "  <tbody>\n",
              "    <tr>\n",
              "      <th>4003</th>\n",
              "      <td>3465</td>\n",
              "    </tr>\n",
              "    <tr>\n",
              "      <th>4004</th>\n",
              "      <td>16765</td>\n",
              "    </tr>\n",
              "    <tr>\n",
              "      <th>4006</th>\n",
              "      <td>25258</td>\n",
              "    </tr>\n",
              "    <tr>\n",
              "      <th>5809</th>\n",
              "      <td>2549</td>\n",
              "    </tr>\n",
              "  </tbody>\n",
              "</table>\n",
              "</div><br><label><b>dtype:</b> int64</label>"
            ],
            "text/plain": [
              "CO_GRUPO\n",
              "4003     3465\n",
              "4004    16765\n",
              "4006    25258\n",
              "5809     2549\n",
              "Name: CO_GRUPO, dtype: int64"
            ]
          },
          "execution_count": 68,
          "metadata": {},
          "output_type": "execute_result"
        }
      ],
      "source": [
        "tabela_computacao.groupby('CO_GRUPO')['CO_GRUPO'].count()"
      ]
    },
    {
      "cell_type": "code",
      "execution_count": null,
      "metadata": {
        "colab": {
          "background_save": true
        },
        "id": "WlyPWuoeKK5S",
        "outputId": "330d2b72-a889-4360-8988-955a31be008e"
      },
      "outputs": [
        {
          "name": "stdout",
          "output_type": "stream",
          "text": [
            "0\n"
          ]
        }
      ],
      "source": [
        "print(tabela_computacao['CO_GRUPO'].isnull().sum())"
      ]
    },
    {
      "cell_type": "code",
      "execution_count": null,
      "metadata": {
        "colab": {
          "background_save": true
        },
        "id": "b1eLc-aKJjmW"
      },
      "outputs": [],
      "source": [
        "tabela_computacao['CO_GRUPO'] = tabela_computacao['CO_GRUPO'].replace({'5809': '4003'}, regex=True)\n",
        "#padronizar o curso de eng. de compt"
      ]
    },
    {
      "cell_type": "code",
      "execution_count": null,
      "metadata": {
        "colab": {
          "background_save": true
        },
        "id": "8pnB4FpSIezp",
        "outputId": "3303e708-d7f4-44da-a950-86283fc40665"
      },
      "outputs": [
        {
          "data": {
            "text/html": [
              "<div>\n",
              "<style scoped>\n",
              "    .dataframe tbody tr th:only-of-type {\n",
              "        vertical-align: middle;\n",
              "    }\n",
              "\n",
              "    .dataframe tbody tr th {\n",
              "        vertical-align: top;\n",
              "    }\n",
              "\n",
              "    .dataframe thead th {\n",
              "        text-align: right;\n",
              "    }\n",
              "</style>\n",
              "<table border=\"1\" class=\"dataframe\">\n",
              "  <thead>\n",
              "    <tr style=\"text-align: right;\">\n",
              "      <th></th>\n",
              "      <th>CO_GRUPO</th>\n",
              "    </tr>\n",
              "    <tr>\n",
              "      <th>CO_GRUPO</th>\n",
              "      <th></th>\n",
              "    </tr>\n",
              "  </thead>\n",
              "  <tbody>\n",
              "    <tr>\n",
              "      <th>4003</th>\n",
              "      <td>6014</td>\n",
              "    </tr>\n",
              "    <tr>\n",
              "      <th>4004</th>\n",
              "      <td>16765</td>\n",
              "    </tr>\n",
              "    <tr>\n",
              "      <th>4006</th>\n",
              "      <td>25258</td>\n",
              "    </tr>\n",
              "  </tbody>\n",
              "</table>\n",
              "</div><br><label><b>dtype:</b> int64</label>"
            ],
            "text/plain": [
              "CO_GRUPO\n",
              "4003     6014\n",
              "4004    16765\n",
              "4006    25258\n",
              "Name: CO_GRUPO, dtype: int64"
            ]
          },
          "execution_count": 71,
          "metadata": {},
          "output_type": "execute_result"
        }
      ],
      "source": [
        "tabela_computacao.groupby('CO_GRUPO')['CO_GRUPO'].count()"
      ]
    },
    {
      "cell_type": "code",
      "execution_count": null,
      "metadata": {
        "colab": {
          "background_save": true
        },
        "id": "pQfIW0nEJ1Fv",
        "outputId": "46d8c9a1-6673-4ad3-e0d7-273bc1cc12e3"
      },
      "outputs": [
        {
          "name": "stdout",
          "output_type": "stream",
          "text": [
            "Dimensão da tabela final: (48037, 19)\n"
          ]
        }
      ],
      "source": [
        "# Verificando a dimensão final da tabela\n",
        "print(\"Dimensão da tabela final:\", tabela_computacao.shape)"
      ]
    },
    {
      "cell_type": "markdown",
      "metadata": {
        "id": "53RtuaKcm9wd"
      },
      "source": [
        "## Map dos cursos de computação"
      ]
    },
    {
      "cell_type": "code",
      "execution_count": null,
      "metadata": {
        "colab": {
          "background_save": true
        },
        "id": "Y0duXud_nkiE"
      },
      "outputs": [],
      "source": [
        "mapping = {'5809': '4003', '4003': '4003', '4004': '4004', '4006': '4006'}\n",
        "tabela_computacao['CO_GRUPO'] = tabela_computacao['CO_GRUPO'].replace(mapping)\n"
      ]
    },
    {
      "cell_type": "markdown",
      "metadata": {
        "id": "_dKAo5GVnf7z"
      },
      "source": [
        "#Usar Tipos de Dados Adequados:"
      ]
    },
    {
      "cell_type": "code",
      "execution_count": null,
      "metadata": {
        "colab": {
          "background_save": true
        },
        "id": "4GD9BWrYn0KL",
        "outputId": "c093da23-e6ec-418a-9452-97a8a46b68c9"
      },
      "outputs": [
        {
          "data": {
            "application/vnd.google.colaboratory.intrinsic+json": {
              "summary": "{\n  \"name\": \"tabela_computacao\",\n  \"rows\": 48037,\n  \"fields\": [\n    {\n      \"column\": \"CO_CATEGAD\",\n      \"properties\": {\n        \"dtype\": \"category\",\n        \"num_unique_values\": 18,\n        \"samples\": [\n          \"10002\",\n          \"10001\",\n          \"10007\"\n        ],\n        \"semantic_type\": \"\",\n        \"description\": \"\"\n      }\n    },\n    {\n      \"column\": \"CO_GRUPO\",\n      \"properties\": {\n        \"dtype\": \"category\",\n        \"num_unique_values\": 3,\n        \"samples\": [\n          \"4004\",\n          \"4003\",\n          \"4006\"\n        ],\n        \"semantic_type\": \"\",\n        \"description\": \"\"\n      }\n    },\n    {\n      \"column\": \"CO_UF_CURSO\",\n      \"properties\": {\n        \"dtype\": \"category\",\n        \"num_unique_values\": 27,\n        \"samples\": [\n          \"43\",\n          \"11\",\n          \"23\"\n        ],\n        \"semantic_type\": \"\",\n        \"description\": \"\"\n      }\n    },\n    {\n      \"column\": \"CO_REGIAO_CURSO\",\n      \"properties\": {\n        \"dtype\": \"category\",\n        \"num_unique_values\": 5,\n        \"samples\": [\n          \"2\",\n          \"1\",\n          \"3\"\n        ],\n        \"semantic_type\": \"\",\n        \"description\": \"\"\n      }\n    },\n    {\n      \"column\": \"NU_IDADE\",\n      \"properties\": {\n        \"dtype\": \"category\",\n        \"num_unique_values\": 47,\n        \"samples\": [\n          \"51\",\n          \"54\",\n          \"48\"\n        ],\n        \"semantic_type\": \"\",\n        \"description\": \"\"\n      }\n    },\n    {\n      \"column\": \"TP_SEXO\",\n      \"properties\": {\n        \"dtype\": \"category\",\n        \"num_unique_values\": 3,\n        \"samples\": [\n          \"M\",\n          \"F\",\n          \"N\"\n        ],\n        \"semantic_type\": \"\",\n        \"description\": \"\"\n      }\n    },\n    {\n      \"column\": \"NT_GER\",\n      \"properties\": {\n        \"dtype\": \"number\",\n        \"std\": 13.474888745891043,\n        \"min\": 0.0,\n        \"max\": 96.2,\n        \"num_unique_values\": 820,\n        \"samples\": [\n          83.3,\n          8.0,\n          64.7\n        ],\n        \"semantic_type\": \"\",\n        \"description\": \"\"\n      }\n    },\n    {\n      \"column\": \"NT_FG\",\n      \"properties\": {\n        \"dtype\": \"category\",\n        \"num_unique_values\": 975,\n        \"samples\": [\n          \"63.5\",\n          \"15.4\",\n          \"58.2\"\n        ],\n        \"semantic_type\": \"\",\n        \"description\": \"\"\n      }\n    },\n    {\n      \"column\": \"QE_I01\",\n      \"properties\": {\n        \"dtype\": \"category\",\n        \"num_unique_values\": 5,\n        \"samples\": [\n          \"B\",\n          \"D\",\n          \"C\"\n        ],\n        \"semantic_type\": \"\",\n        \"description\": \"\"\n      }\n    },\n    {\n      \"column\": \"QE_I02\",\n      \"properties\": {\n        \"dtype\": \"category\",\n        \"num_unique_values\": 6,\n        \"samples\": [\n          \"C\",\n          \"A\",\n          \"F\"\n        ],\n        \"semantic_type\": \"\",\n        \"description\": \"\"\n      }\n    },\n    {\n      \"column\": \"QE_I05\",\n      \"properties\": {\n        \"dtype\": \"category\",\n        \"num_unique_values\": 6,\n        \"samples\": [\n          \"E\",\n          \"D\",\n          \"B\"\n        ],\n        \"semantic_type\": \"\",\n        \"description\": \"\"\n      }\n    },\n    {\n      \"column\": \"QE_I08\",\n      \"properties\": {\n        \"dtype\": \"category\",\n        \"num_unique_values\": 7,\n        \"samples\": [\n          \"F\",\n          \"B\",\n          \"A\"\n        ],\n        \"semantic_type\": \"\",\n        \"description\": \"\"\n      }\n    },\n    {\n      \"column\": \"QE_I11\",\n      \"properties\": {\n        \"dtype\": \"category\",\n        \"num_unique_values\": 11,\n        \"samples\": [\n          \"C\",\n          \"A\",\n          \"K\"\n        ],\n        \"semantic_type\": \"\",\n        \"description\": \"\"\n      }\n    },\n    {\n      \"column\": \"QE_I12\",\n      \"properties\": {\n        \"dtype\": \"category\",\n        \"num_unique_values\": 6,\n        \"samples\": [\n          \"A\",\n          \"E\",\n          \"B\"\n        ],\n        \"semantic_type\": \"\",\n        \"description\": \"\"\n      }\n    },\n    {\n      \"column\": \"QE_I15\",\n      \"properties\": {\n        \"dtype\": \"category\",\n        \"num_unique_values\": 6,\n        \"samples\": [\n          \"A\",\n          \"B\",\n          \"F\"\n        ],\n        \"semantic_type\": \"\",\n        \"description\": \"\"\n      }\n    },\n    {\n      \"column\": \"QE_I17\",\n      \"properties\": {\n        \"dtype\": \"category\",\n        \"num_unique_values\": 6,\n        \"samples\": [\n          \"A\",\n          \"B\",\n          \"C\"\n        ],\n        \"semantic_type\": \"\",\n        \"description\": \"\"\n      }\n    },\n    {\n      \"column\": \"QE_I18\",\n      \"properties\": {\n        \"dtype\": \"category\",\n        \"num_unique_values\": 5,\n        \"samples\": [\n          \"A\",\n          \"D\",\n          \"E\"\n        ],\n        \"semantic_type\": \"\",\n        \"description\": \"\"\n      }\n    },\n    {\n      \"column\": \"QE_I21\",\n      \"properties\": {\n        \"dtype\": \"category\",\n        \"num_unique_values\": 2,\n        \"samples\": [\n          \"B\",\n          \"A\"\n        ],\n        \"semantic_type\": \"\",\n        \"description\": \"\"\n      }\n    },\n    {\n      \"column\": \"QE_I25\",\n      \"properties\": {\n        \"dtype\": \"category\",\n        \"num_unique_values\": 8,\n        \"samples\": [\n          \"A\",\n          \"B\"\n        ],\n        \"semantic_type\": \"\",\n        \"description\": \"\"\n      }\n    }\n  ]\n}",
              "type": "dataframe",
              "variable_name": "tabela_computacao"
            },
            "text/html": [
              "\n",
              "  <div id=\"df-bb96db54-6dc8-4b6f-bb33-b9547d58b7dc\" class=\"colab-df-container\">\n",
              "    <div>\n",
              "<style scoped>\n",
              "    .dataframe tbody tr th:only-of-type {\n",
              "        vertical-align: middle;\n",
              "    }\n",
              "\n",
              "    .dataframe tbody tr th {\n",
              "        vertical-align: top;\n",
              "    }\n",
              "\n",
              "    .dataframe thead th {\n",
              "        text-align: right;\n",
              "    }\n",
              "</style>\n",
              "<table border=\"1\" class=\"dataframe\">\n",
              "  <thead>\n",
              "    <tr style=\"text-align: right;\">\n",
              "      <th></th>\n",
              "      <th>CO_CATEGAD</th>\n",
              "      <th>CO_GRUPO</th>\n",
              "      <th>CO_UF_CURSO</th>\n",
              "      <th>CO_REGIAO_CURSO</th>\n",
              "      <th>NU_IDADE</th>\n",
              "      <th>TP_SEXO</th>\n",
              "      <th>NT_GER</th>\n",
              "      <th>NT_FG</th>\n",
              "      <th>QE_I01</th>\n",
              "      <th>QE_I02</th>\n",
              "      <th>QE_I05</th>\n",
              "      <th>QE_I08</th>\n",
              "      <th>QE_I11</th>\n",
              "      <th>QE_I12</th>\n",
              "      <th>QE_I15</th>\n",
              "      <th>QE_I17</th>\n",
              "      <th>QE_I18</th>\n",
              "      <th>QE_I21</th>\n",
              "      <th>QE_I25</th>\n",
              "    </tr>\n",
              "  </thead>\n",
              "  <tbody>\n",
              "    <tr>\n",
              "      <th>595</th>\n",
              "      <td>10002</td>\n",
              "      <td>4004</td>\n",
              "      <td>51</td>\n",
              "      <td>5</td>\n",
              "      <td>21</td>\n",
              "      <td>M</td>\n",
              "      <td>67.5</td>\n",
              "      <td>85.5</td>\n",
              "      <td>A</td>\n",
              "      <td>C</td>\n",
              "      <td>E</td>\n",
              "      <td>F</td>\n",
              "      <td>A</td>\n",
              "      <td>A</td>\n",
              "      <td>A</td>\n",
              "      <td>A</td>\n",
              "      <td>B</td>\n",
              "      <td>A</td>\n",
              "      <td>E</td>\n",
              "    </tr>\n",
              "    <tr>\n",
              "      <th>597</th>\n",
              "      <td>10002</td>\n",
              "      <td>4004</td>\n",
              "      <td>51</td>\n",
              "      <td>5</td>\n",
              "      <td>20</td>\n",
              "      <td>M</td>\n",
              "      <td>40.1</td>\n",
              "      <td>45</td>\n",
              "      <td>A</td>\n",
              "      <td>C</td>\n",
              "      <td>D</td>\n",
              "      <td>B</td>\n",
              "      <td>A</td>\n",
              "      <td>A</td>\n",
              "      <td>A</td>\n",
              "      <td>A</td>\n",
              "      <td>A</td>\n",
              "      <td>B</td>\n",
              "      <td>E</td>\n",
              "    </tr>\n",
              "    <tr>\n",
              "      <th>600</th>\n",
              "      <td>10002</td>\n",
              "      <td>4004</td>\n",
              "      <td>51</td>\n",
              "      <td>5</td>\n",
              "      <td>21</td>\n",
              "      <td>M</td>\n",
              "      <td>59.7</td>\n",
              "      <td>85.7</td>\n",
              "      <td>A</td>\n",
              "      <td>A</td>\n",
              "      <td>D</td>\n",
              "      <td>E</td>\n",
              "      <td>A</td>\n",
              "      <td>A</td>\n",
              "      <td>A</td>\n",
              "      <td>A</td>\n",
              "      <td>A</td>\n",
              "      <td>A</td>\n",
              "      <td>A</td>\n",
              "    </tr>\n",
              "    <tr>\n",
              "      <th>601</th>\n",
              "      <td>10002</td>\n",
              "      <td>4004</td>\n",
              "      <td>51</td>\n",
              "      <td>5</td>\n",
              "      <td>26</td>\n",
              "      <td>F</td>\n",
              "      <td>68.7</td>\n",
              "      <td>71.8</td>\n",
              "      <td>A</td>\n",
              "      <td>A</td>\n",
              "      <td>E</td>\n",
              "      <td>D</td>\n",
              "      <td>A</td>\n",
              "      <td>A</td>\n",
              "      <td>A</td>\n",
              "      <td>A</td>\n",
              "      <td>A</td>\n",
              "      <td>A</td>\n",
              "      <td>A</td>\n",
              "    </tr>\n",
              "    <tr>\n",
              "      <th>602</th>\n",
              "      <td>10002</td>\n",
              "      <td>4004</td>\n",
              "      <td>51</td>\n",
              "      <td>5</td>\n",
              "      <td>22</td>\n",
              "      <td>M</td>\n",
              "      <td>52.3</td>\n",
              "      <td>56</td>\n",
              "      <td>A</td>\n",
              "      <td>C</td>\n",
              "      <td>D</td>\n",
              "      <td>C</td>\n",
              "      <td>A</td>\n",
              "      <td>E</td>\n",
              "      <td>A</td>\n",
              "      <td>A</td>\n",
              "      <td>A</td>\n",
              "      <td>B</td>\n",
              "      <td>C</td>\n",
              "    </tr>\n",
              "  </tbody>\n",
              "</table>\n",
              "</div>\n",
              "    <div class=\"colab-df-buttons\">\n",
              "\n",
              "  <div class=\"colab-df-container\">\n",
              "    <button class=\"colab-df-convert\" onclick=\"convertToInteractive('df-bb96db54-6dc8-4b6f-bb33-b9547d58b7dc')\"\n",
              "            title=\"Convert this dataframe to an interactive table.\"\n",
              "            style=\"display:none;\">\n",
              "\n",
              "  <svg xmlns=\"http://www.w3.org/2000/svg\" height=\"24px\" viewBox=\"0 -960 960 960\">\n",
              "    <path d=\"M120-120v-720h720v720H120Zm60-500h600v-160H180v160Zm220 220h160v-160H400v160Zm0 220h160v-160H400v160ZM180-400h160v-160H180v160Zm440 0h160v-160H620v160ZM180-180h160v-160H180v160Zm440 0h160v-160H620v160Z\"/>\n",
              "  </svg>\n",
              "    </button>\n",
              "\n",
              "  <style>\n",
              "    .colab-df-container {\n",
              "      display:flex;\n",
              "      gap: 12px;\n",
              "    }\n",
              "\n",
              "    .colab-df-convert {\n",
              "      background-color: #E8F0FE;\n",
              "      border: none;\n",
              "      border-radius: 50%;\n",
              "      cursor: pointer;\n",
              "      display: none;\n",
              "      fill: #1967D2;\n",
              "      height: 32px;\n",
              "      padding: 0 0 0 0;\n",
              "      width: 32px;\n",
              "    }\n",
              "\n",
              "    .colab-df-convert:hover {\n",
              "      background-color: #E2EBFA;\n",
              "      box-shadow: 0px 1px 2px rgba(60, 64, 67, 0.3), 0px 1px 3px 1px rgba(60, 64, 67, 0.15);\n",
              "      fill: #174EA6;\n",
              "    }\n",
              "\n",
              "    .colab-df-buttons div {\n",
              "      margin-bottom: 4px;\n",
              "    }\n",
              "\n",
              "    [theme=dark] .colab-df-convert {\n",
              "      background-color: #3B4455;\n",
              "      fill: #D2E3FC;\n",
              "    }\n",
              "\n",
              "    [theme=dark] .colab-df-convert:hover {\n",
              "      background-color: #434B5C;\n",
              "      box-shadow: 0px 1px 3px 1px rgba(0, 0, 0, 0.15);\n",
              "      filter: drop-shadow(0px 1px 2px rgba(0, 0, 0, 0.3));\n",
              "      fill: #FFFFFF;\n",
              "    }\n",
              "  </style>\n",
              "\n",
              "    <script>\n",
              "      const buttonEl =\n",
              "        document.querySelector('#df-bb96db54-6dc8-4b6f-bb33-b9547d58b7dc button.colab-df-convert');\n",
              "      buttonEl.style.display =\n",
              "        google.colab.kernel.accessAllowed ? 'block' : 'none';\n",
              "\n",
              "      async function convertToInteractive(key) {\n",
              "        const element = document.querySelector('#df-bb96db54-6dc8-4b6f-bb33-b9547d58b7dc');\n",
              "        const dataTable =\n",
              "          await google.colab.kernel.invokeFunction('convertToInteractive',\n",
              "                                                    [key], {});\n",
              "        if (!dataTable) return;\n",
              "\n",
              "        const docLinkHtml = 'Like what you see? Visit the ' +\n",
              "          '<a target=\"_blank\" href=https://colab.research.google.com/notebooks/data_table.ipynb>data table notebook</a>'\n",
              "          + ' to learn more about interactive tables.';\n",
              "        element.innerHTML = '';\n",
              "        dataTable['output_type'] = 'display_data';\n",
              "        await google.colab.output.renderOutput(dataTable, element);\n",
              "        const docLink = document.createElement('div');\n",
              "        docLink.innerHTML = docLinkHtml;\n",
              "        element.appendChild(docLink);\n",
              "      }\n",
              "    </script>\n",
              "  </div>\n",
              "\n",
              "\n",
              "    <div id=\"df-a22169cb-95c3-431c-81e7-778f43414e0d\">\n",
              "      <button class=\"colab-df-quickchart\" onclick=\"quickchart('df-a22169cb-95c3-431c-81e7-778f43414e0d')\"\n",
              "                title=\"Suggest charts\"\n",
              "                style=\"display:none;\">\n",
              "\n",
              "<svg xmlns=\"http://www.w3.org/2000/svg\" height=\"24px\"viewBox=\"0 0 24 24\"\n",
              "     width=\"24px\">\n",
              "    <g>\n",
              "        <path d=\"M19 3H5c-1.1 0-2 .9-2 2v14c0 1.1.9 2 2 2h14c1.1 0 2-.9 2-2V5c0-1.1-.9-2-2-2zM9 17H7v-7h2v7zm4 0h-2V7h2v10zm4 0h-2v-4h2v4z\"/>\n",
              "    </g>\n",
              "</svg>\n",
              "      </button>\n",
              "\n",
              "<style>\n",
              "  .colab-df-quickchart {\n",
              "      --bg-color: #E8F0FE;\n",
              "      --fill-color: #1967D2;\n",
              "      --hover-bg-color: #E2EBFA;\n",
              "      --hover-fill-color: #174EA6;\n",
              "      --disabled-fill-color: #AAA;\n",
              "      --disabled-bg-color: #DDD;\n",
              "  }\n",
              "\n",
              "  [theme=dark] .colab-df-quickchart {\n",
              "      --bg-color: #3B4455;\n",
              "      --fill-color: #D2E3FC;\n",
              "      --hover-bg-color: #434B5C;\n",
              "      --hover-fill-color: #FFFFFF;\n",
              "      --disabled-bg-color: #3B4455;\n",
              "      --disabled-fill-color: #666;\n",
              "  }\n",
              "\n",
              "  .colab-df-quickchart {\n",
              "    background-color: var(--bg-color);\n",
              "    border: none;\n",
              "    border-radius: 50%;\n",
              "    cursor: pointer;\n",
              "    display: none;\n",
              "    fill: var(--fill-color);\n",
              "    height: 32px;\n",
              "    padding: 0;\n",
              "    width: 32px;\n",
              "  }\n",
              "\n",
              "  .colab-df-quickchart:hover {\n",
              "    background-color: var(--hover-bg-color);\n",
              "    box-shadow: 0 1px 2px rgba(60, 64, 67, 0.3), 0 1px 3px 1px rgba(60, 64, 67, 0.15);\n",
              "    fill: var(--button-hover-fill-color);\n",
              "  }\n",
              "\n",
              "  .colab-df-quickchart-complete:disabled,\n",
              "  .colab-df-quickchart-complete:disabled:hover {\n",
              "    background-color: var(--disabled-bg-color);\n",
              "    fill: var(--disabled-fill-color);\n",
              "    box-shadow: none;\n",
              "  }\n",
              "\n",
              "  .colab-df-spinner {\n",
              "    border: 2px solid var(--fill-color);\n",
              "    border-color: transparent;\n",
              "    border-bottom-color: var(--fill-color);\n",
              "    animation:\n",
              "      spin 1s steps(1) infinite;\n",
              "  }\n",
              "\n",
              "  @keyframes spin {\n",
              "    0% {\n",
              "      border-color: transparent;\n",
              "      border-bottom-color: var(--fill-color);\n",
              "      border-left-color: var(--fill-color);\n",
              "    }\n",
              "    20% {\n",
              "      border-color: transparent;\n",
              "      border-left-color: var(--fill-color);\n",
              "      border-top-color: var(--fill-color);\n",
              "    }\n",
              "    30% {\n",
              "      border-color: transparent;\n",
              "      border-left-color: var(--fill-color);\n",
              "      border-top-color: var(--fill-color);\n",
              "      border-right-color: var(--fill-color);\n",
              "    }\n",
              "    40% {\n",
              "      border-color: transparent;\n",
              "      border-right-color: var(--fill-color);\n",
              "      border-top-color: var(--fill-color);\n",
              "    }\n",
              "    60% {\n",
              "      border-color: transparent;\n",
              "      border-right-color: var(--fill-color);\n",
              "    }\n",
              "    80% {\n",
              "      border-color: transparent;\n",
              "      border-right-color: var(--fill-color);\n",
              "      border-bottom-color: var(--fill-color);\n",
              "    }\n",
              "    90% {\n",
              "      border-color: transparent;\n",
              "      border-bottom-color: var(--fill-color);\n",
              "    }\n",
              "  }\n",
              "</style>\n",
              "\n",
              "      <script>\n",
              "        async function quickchart(key) {\n",
              "          const quickchartButtonEl =\n",
              "            document.querySelector('#' + key + ' button');\n",
              "          quickchartButtonEl.disabled = true;  // To prevent multiple clicks.\n",
              "          quickchartButtonEl.classList.add('colab-df-spinner');\n",
              "          try {\n",
              "            const charts = await google.colab.kernel.invokeFunction(\n",
              "                'suggestCharts', [key], {});\n",
              "          } catch (error) {\n",
              "            console.error('Error during call to suggestCharts:', error);\n",
              "          }\n",
              "          quickchartButtonEl.classList.remove('colab-df-spinner');\n",
              "          quickchartButtonEl.classList.add('colab-df-quickchart-complete');\n",
              "        }\n",
              "        (() => {\n",
              "          let quickchartButtonEl =\n",
              "            document.querySelector('#df-a22169cb-95c3-431c-81e7-778f43414e0d button');\n",
              "          quickchartButtonEl.style.display =\n",
              "            google.colab.kernel.accessAllowed ? 'block' : 'none';\n",
              "        })();\n",
              "      </script>\n",
              "    </div>\n",
              "\n",
              "    </div>\n",
              "  </div>\n"
            ],
            "text/plain": [
              "    CO_CATEGAD CO_GRUPO CO_UF_CURSO CO_REGIAO_CURSO NU_IDADE TP_SEXO  NT_GER  \\\n",
              "595      10002     4004          51               5       21       M    67.5   \n",
              "597      10002     4004          51               5       20       M    40.1   \n",
              "600      10002     4004          51               5       21       M    59.7   \n",
              "601      10002     4004          51               5       26       F    68.7   \n",
              "602      10002     4004          51               5       22       M    52.3   \n",
              "\n",
              "    NT_FG QE_I01 QE_I02 QE_I05 QE_I08 QE_I11 QE_I12 QE_I15 QE_I17 QE_I18  \\\n",
              "595  85.5      A      C      E      F      A      A      A      A      B   \n",
              "597    45      A      C      D      B      A      A      A      A      A   \n",
              "600  85.7      A      A      D      E      A      A      A      A      A   \n",
              "601  71.8      A      A      E      D      A      A      A      A      A   \n",
              "602    56      A      C      D      C      A      E      A      A      A   \n",
              "\n",
              "    QE_I21 QE_I25  \n",
              "595      A      E  \n",
              "597      B      E  \n",
              "600      A      A  \n",
              "601      A      A  \n",
              "602      B      C  "
            ]
          },
          "execution_count": 74,
          "metadata": {},
          "output_type": "execute_result"
        }
      ],
      "source": [
        "tabela_computacao['NT_GER'] = tabela_computacao['NT_GER'].astype(float)\n",
        "tabela_computacao.head()"
      ]
    },
    {
      "cell_type": "markdown",
      "metadata": {
        "id": "hzbu14cv4G4U"
      },
      "source": [
        "# Recorte 2\n",
        "\n",
        "#### Perfil jovem em instituições públicas\n",
        "* Curso: Todos os cursos\n",
        "\n",
        "* Faixa Etária: 18–23 anos\n",
        "\n",
        "* Escolaridade dos pais: Tem Superior\n",
        "\n",
        "* Motivação: Vocação\n",
        "\n",
        "* Instituição: Pública - federal as 10 maiores"
      ]
    },
    {
      "cell_type": "markdown",
      "metadata": {
        "id": "Kobx_fo39Cyg"
      },
      "source": [
        "## Mapeamentos"
      ]
    },
    {
      "cell_type": "code",
      "execution_count": null,
      "metadata": {
        "colab": {
          "background_save": true
        },
        "id": "Txy1jy_U6cHj"
      },
      "outputs": [],
      "source": [
        "tabela_computacao = tabela_computacao.dropna(subset=['CO_CATEGAD'])\n",
        "tabela_computacao['CO_CATEGAD'] = tabela_computacao['CO_CATEGAD'].astype(int)\n",
        "\n",
        "# Novo mapeamento para 2 níveis: Públicas (1) e Privadas (2)\n",
        "mapeamento_categorias = {\n",
        "    # Públicas\n",
        "    93: 1, # Federal\n",
        "    10002: 1, # Federal\n",
        "    10001: 3, # Estadual\n",
        "    10003: 4, # Municipal\n",
        "    116: 4, # Municipal\n",
        "\n",
        "    # Privadas\n",
        "    118: 2, # Com fins lucrativos\n",
        "    121: 2, # Sem fins lucrativos\n",
        "    10004: 2, # Com fins lucrativos\n",
        "    10005: 2, # Com fins lucrativos\n",
        "    10006: 2, # Com fins lucrativos\n",
        "    10007: 2, # Sem fins lucrativos\n",
        "    10008: 2, # Sem fins lucrativos\n",
        "    10009: 2, # Sem fins lucrativos\n",
        "}\n",
        "\n",
        "\n",
        "# Aplicar o mapeamento correto de categorias\n",
        "tabela_computacao['Tipo_Instituicao'] = tabela_computacao['CO_CATEGAD'].map(mapeamento_categorias)\n",
        "\n",
        "# 2. Remover valores nulos em NT_GER e CO_CATEGAD\n",
        "tabela_computacao = tabela_computacao.dropna(subset=['NT_GER', 'CO_CATEGAD'])\n"
      ]
    },
    {
      "cell_type": "code",
      "execution_count": null,
      "metadata": {
        "colab": {
          "background_save": true
        },
        "id": "3-CWt6XV95dH"
      },
      "outputs": [],
      "source": [
        "# Mapeamento dos códigos para os nomes dos cursos\n",
        "curso_mapping = {\n",
        "    '4003': 'Engenharia da Computação',\n",
        "    '4004': 'Ciência da Computação (Bacharelado)',\n",
        "    '4006': 'Sistemas de Informação'\n",
        "}\n",
        "\n",
        "# Adicionando os nomes dos cursos à tabela\n",
        "tabela_computacao['Curso'] = tabela_computacao['CO_GRUPO'].map(curso_mapping)\n"
      ]
    },
    {
      "cell_type": "code",
      "execution_count": null,
      "metadata": {
        "colab": {
          "background_save": true
        },
        "id": "Y4rB-2rUPeq3"
      },
      "outputs": [],
      "source": [
        "# Converte NU_IDADE para número, transformando valores inválidos em NaN\n",
        "tabela_computacao['NU_IDADE'] = pd.to_numeric(tabela_computacao['NU_IDADE'], errors='coerce')\n",
        "\n",
        "# Definindo os intervalos e etiquetas para as faixas etárias\n",
        "bins = [0, 18, 23, 28, 33, 38, 43, 48, 53, 58, 63, 68, float('inf')]\n",
        "labels = ['0-17', '18-23', '24-28', '29-33', '34-38', '39-43', '44-48', '49-53', '54-58', '59-63', '64-68', '69+']\n",
        "\n",
        "# Criar a coluna de faixa etária na tabela_computacao\n",
        "tabela_computacao['faixa_etaria'] = pd.cut(tabela_computacao['NU_IDADE'], bins=bins, labels=labels, right=False)"
      ]
    },
    {
      "cell_type": "code",
      "execution_count": null,
      "metadata": {
        "colab": {
          "background_save": true
        },
        "id": "S4NCUw088n9h"
      },
      "outputs": [],
      "source": [
        "# Novo mapeamento para as categorias de escolaridade da mãe\n",
        "mapeamento_escolaridade = {\n",
        "    'A': 'Outro',          # Nenhuma\n",
        "    'B': 'Tem Fundamental',  # Ensino fundamental: 1º ao 5º ano\n",
        "    'C': 'Tem Fundamental',  # Ensino fundamental: 6º ao 9º ano\n",
        "    'D': 'Tem Médio',         # Ensino médio\n",
        "    'E': 'Tem Superior',      # Ensino Superior - Graduação\n",
        "    'F': 'Tem Superior'       # Pós-graduação\n",
        "}\n",
        "\n",
        "# Aplicar o mapeamento às tabelas de 2014 e 2017\n",
        "tabela_computacao['QE_I05'] = tabela_computacao['QE_I05'].map(mapeamento_escolaridade)\n",
        "\n",
        "# Verificar as contagens de cada categoria para validar o mapeamento\n",
        "#print(tabela_computacao['QE_I05'].value_counts())"
      ]
    },
    {
      "cell_type": "code",
      "execution_count": null,
      "metadata": {
        "colab": {
          "background_save": true
        },
        "id": "vpU5AhIJ86Yr"
      },
      "outputs": [],
      "source": [
        "# Novo mapeamento para a questão QE_I25_E\n",
        "mapeamento_motivo_curso = {\n",
        "    'A': 'Inserção no mercado de trabalho',  # Inserção no mercado de trabalho\n",
        "    'B': 'Família e Sociedade',                 # Influência familiar\n",
        "    'C': 'Valorização profissional',                 # Valorização profissional\n",
        "    'D': 'Família e Sociedade',                 # Prestígio Social\n",
        "    'E': 'Vocação',                 # Vocação\n",
        "    'F': 'Outros',                 # Oferecido na modalidade a distância\n",
        "    'G': 'Outros',                 # Baixa concorrência para ingresso\n",
        "    'H': 'Outros'                  # Outro motivo\n",
        "}\n",
        "# Aplicando o mapeamento dos motivos de escolha de curso\n",
        "tabela_computacao['QE_I25'] = tabela_computacao['QE_I25'].map(mapeamento_motivo_curso)"
      ]
    },
    {
      "cell_type": "code",
      "execution_count": null,
      "metadata": {
        "colab": {
          "background_save": true
        },
        "id": "RUGmhi5A_EiK",
        "outputId": "c37ceb0f-c9af-417d-e910-7b69df59125a"
      },
      "outputs": [
        {
          "name": "stdout",
          "output_type": "stream",
          "text": [
            "23945\n",
            "228\n",
            "229\n"
          ]
        }
      ],
      "source": [
        "print(tabela_computacao['Tipo_Instituicao'].isna().sum())\n",
        "print(tabela_computacao['QE_I05'].isna().sum())\n",
        "print(tabela_computacao['QE_I25'].isna().sum())\n"
      ]
    },
    {
      "cell_type": "markdown",
      "metadata": {
        "id": "62XoC0mt4RYN"
      },
      "source": [
        "## Recortes"
      ]
    },
    {
      "cell_type": "code",
      "execution_count": null,
      "metadata": {
        "colab": {
          "background_save": true
        },
        "id": "rKFCk1Nj48td",
        "outputId": "95aa817b-fb31-448c-eeb6-c0a96f1b8cee"
      },
      "outputs": [
        {
          "name": "stdout",
          "output_type": "stream",
          "text": [
            "Estatística t (todos os cursos): -1.2299\n",
            "P-valor (todos os cursos): 0.221209\n"
          ]
        }
      ],
      "source": [
        "from scipy.stats import ttest_ind\n",
        "\n",
        "# Lista de cursos de computação\n",
        "cursos_computacao = [\n",
        "    'Ciência da Computação (Bacharelado)',\n",
        "    'Engenharia da Computação',\n",
        "    'Sistemas de Informação'\n",
        "]\n",
        "\n",
        "# Filtrando todos os cursos de computação com os mesmos critérios\n",
        "recorte_computacao = tabela_computacao[\n",
        "    (tabela_computacao['Curso'].isin(cursos_computacao)) &\n",
        "    (tabela_computacao['faixa_etaria'].isin(['18-23', '24-28'])) &\n",
        "    (tabela_computacao['QE_I05'].isin(['Tem Superior', 'Tem Médio'])) &\n",
        "    (tabela_computacao['QE_I25'] == 'Vocação') &\n",
        "    (tabela_computacao['Tipo_Instituicao'] == 1)  # Instituição federal\n",
        "]\n",
        "\n",
        "# Separando notas por sexo\n",
        "notas_fem = recorte_computacao[recorte_computacao['TP_SEXO'] == 'F']['NT_GER'].astype(float)\n",
        "notas_masc = recorte_computacao[recorte_computacao['TP_SEXO'] == 'M']['NT_GER'].astype(float)\n",
        "\n",
        "# Teste t de Student\n",
        "t_stat, p_valor = ttest_ind(notas_fem, notas_masc, equal_var=False)\n",
        "\n",
        "print(f\"Estatística t (todos os cursos): {t_stat:.4f}\")\n",
        "print(f\"P-valor (todos os cursos): {p_valor:.6f}\")\n"
      ]
    },
    {
      "cell_type": "code",
      "execution_count": null,
      "metadata": {
        "colab": {
          "background_save": true
        },
        "id": "Z3rptvXNKLlY",
        "outputId": "956ffb45-2ba6-4509-c16a-2ee99f1ee425"
      },
      "outputs": [
        {
          "name": "stdout",
          "output_type": "stream",
          "text": [
            "Contagem por sexo no recorte:\n",
            "TP_SEXO\n",
            "M    1098\n",
            "F     101\n",
            "Name: count, dtype: int64\n"
          ]
        }
      ],
      "source": [
        "# Contagem de participantes por sexo no novo recorte\n",
        "contagem_por_sexo = recorte_computacao['TP_SEXO'].value_counts()\n",
        "\n",
        "print(\"Contagem por sexo no recorte:\")\n",
        "print(contagem_por_sexo)\n",
        "\n"
      ]
    }
  ],
  "metadata": {
    "colab": {
      "provenance": [],
      "authorship_tag": "ABX9TyNEJ8DCbWEikgUJjHj0v23b",
      "include_colab_link": true
    },
    "kernelspec": {
      "display_name": "Python 3",
      "name": "python3"
    },
    "language_info": {
      "name": "python"
    }
  },
  "nbformat": 4,
  "nbformat_minor": 0
}